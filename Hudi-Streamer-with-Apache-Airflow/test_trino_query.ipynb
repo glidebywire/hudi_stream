%pip install 'trino[sqlalchemy]' pandas folium
from sqlalchemy import create_engine
import pandas as pd
import folium

# --- Connection details for Trino ---
trino_host = 'trino'
trino_port = 8080
trino_user = 'trino'
trino_catalog = 'hudi'  # <--- CHANGE 1: Use the 'hudi' catalog
trino_schema = 'default'

# --- Create the SQLAlchemy engine for Trino ---
# The connection string now points to the 'hudi' catalog.
engine = create_engine(f'trino://{trino_user}@{trino_host}:{trino_port}/{trino_catalog}')

# --- Define the SQL query ---
# The query now specifies the table within the 'hudi' catalog.
table_name = 'coupons_geo'
sql_query = f"SELECT couponCode, latitude, longitude FROM {trino_schema}.{table_name}"

# --- Execute the query and load into a pandas DataFrame ---
try:
    # This query will now be handled by Trino's Hudi connector
    pandas_df = pd.read_sql(sql_query, engine)
    print("Successfully fetched data from Hudi table via Trino!")
    print(pandas_df.head())
except Exception as e:
    print(f"An error occurred: {e}")
    print("\nPlease ensure the 'minio_geospatial_write_test' DAG has run and the Trino container has been restarted.")

# --- The rest of your visualization code remains the same ---
if not pandas_df.empty:
    map_center = [pandas_df['latitude'].mean(), pandas_df['longitude'].mean()]
    my_map = folium.Map(location=map_center, zoom_start=2)

    for index, row in pandas_df.iterrows():
        folium.Marker(
            location=[row['latitude'], row['longitude']],
            popup=f"<strong>Coupon:</strong> {row['couponCode']}",
            tooltip="Click to see coupon code"
        ).add_to(my_map)

    display(my_map)
else:
    print("DataFrame is empty. Cannot generate map.")